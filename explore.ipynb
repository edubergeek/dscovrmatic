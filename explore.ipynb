{
 "cells": [
  {
   "cell_type": "code",
   "execution_count": 1,
   "id": "88a52bf6",
   "metadata": {},
   "outputs": [],
   "source": [
    "import os\n",
    "import numpy as np\n",
    "import matplotlib.pyplot as plt\n",
    "%matplotlib inline\n",
    "from spacepy import pycdf"
   ]
  },
  {
   "cell_type": "markdown",
   "id": "0579206e",
   "metadata": {},
   "source": [
    "# Configure Matplotlib\n",
    "\n",
    "Choose a matplotlib style sheet to match your browser theme (dark or light)\n",
    "\n",
    "Increase the figure size to match the notebook width."
   ]
  },
  {
   "cell_type": "code",
   "execution_count": 2,
   "id": "427e2f7f",
   "metadata": {},
   "outputs": [],
   "source": [
    "style_sheet = 'dark_background' # dark theme\n",
    "#style_sheet = 'default'         # light theme\n",
    "plt.style.use(style_sheet)\n",
    "\n",
    "plt.rcParams['figure.figsize'] = [12, 8]\n",
    "plt.rcParams['figure.dpi'] = 200 # 200 e.g. is really fine, but slower"
   ]
  },
  {
   "cell_type": "markdown",
   "id": "0e8992c1",
   "metadata": {},
   "source": [
    "# Time Conversion functions\n",
    "\n",
    "Let's define some helper functions to convert some time formats into human readable time"
   ]
  },
  {
   "cell_type": "code",
   "execution_count": 3,
   "id": "3beb4cb8",
   "metadata": {},
   "outputs": [],
   "source": [
    "def time_from_seconds(seconds):\n",
    "  seconds = seconds % (24 * 3600)\n",
    "  hour = seconds // 3600\n",
    "  seconds %= 3600\n",
    "  minutes = seconds // 60\n",
    "  seconds %= 60\n",
    "     \n",
    "  return \"%d:%02d:%02d\" % (hour, minutes, seconds)\n",
    "\n",
    "def time_from_doy(doy):\n",
    "  part, whole = np.modf(doy)\n",
    "  seconds = part * 86400\n",
    "     \n",
    "  return time_from_seconds(seconds)"
   ]
  },
  {
   "cell_type": "code",
   "execution_count": 4,
   "id": "e46010fb",
   "metadata": {},
   "outputs": [
    {
     "name": "stdout",
     "output_type": "stream",
     "text": [
      "3600 seconds: 1:00:00\n",
      "0.04167 days: 1:00:00\n"
     ]
    }
   ],
   "source": [
    "print(\"3600 seconds: %s\" %(time_from_seconds(3600)))\n",
    "print(\"0.04167 days: %s\" %(time_from_doy(0.04167)))"
   ]
  },
  {
   "cell_type": "markdown",
   "id": "a7c8292c",
   "metadata": {},
   "source": [
    "# WIND ion data\n",
    "\n",
    "The WIND ion data is our ground truth example data. In machine learning we call this data *Y*. This is what we want to predict but for DSCVR input not WIND input. Let's explore the WIND ion data."
   ]
  },
  {
   "cell_type": "markdown",
   "id": "8a8db8ca",
   "metadata": {},
   "source": [
    "The WIND ion data is stored locally in the \"data/raw/WIND/ion/\" directory."
   ]
  },
  {
   "cell_type": "code",
   "execution_count": 5,
   "id": "c7197220",
   "metadata": {},
   "outputs": [
    {
     "name": "stdout",
     "output_type": "stream",
     "text": [
      "238\n",
      "-rw-rw-r-- 1 1001 1001 642922 Jun  2 04:06 data/raw/WIND/ion/2022/wi_h1_swe_20220514_v01.cdf\n",
      "data/raw/WIND/ion/2022/wi_h1_swe_20220514_v01.cdf: FoxPro FPT, blocks size 65535, next free block index 3455254529, field type 0\n"
     ]
    }
   ],
   "source": [
    "WND_ION_DIR = 'data/raw/WIND/ion/2022'\n",
    "\n",
    "!ls -l $WND_ION_DIR | wc -l\n",
    "!ls -l $WND_ION_DIR/wi_h1_swe_20220514_v01.cdf\n",
    "!file $WND_ION_DIR/wi_h1_swe_20220514_v01.cdf"
   ]
  },
  {
   "cell_type": "code",
   "execution_count": 6,
   "id": "d82e394c",
   "metadata": {},
   "outputs": [],
   "source": [
    "y_filename = os.path.join(WND_ION_DIR,'wi_h1_swe_20220514_v01.cdf')\n",
    "cdf_ywnd = pycdf.CDF(y_filename)"
   ]
  },
  {
   "cell_type": "code",
   "execution_count": 7,
   "id": "c8cd9d70",
   "metadata": {},
   "outputs": [
    {
     "name": "stdout",
     "output_type": "stream",
     "text": [
      "These are the variables within this file:\n",
      "\n",
      "Alpha_Na_nonlin: CDF_FLOAT [787]\n",
      "Alpha_VX_nonlin: CDF_FLOAT [787]\n",
      "Alpha_VY_nonlin: CDF_FLOAT [787]\n",
      "Alpha_VZ_nonlin: CDF_FLOAT [787]\n",
      "Alpha_V_nonlin: CDF_FLOAT [787]\n",
      "Alpha_W_nonlin: CDF_FLOAT [787]\n",
      "Alpha_Wpar_nonlin: CDF_FLOAT [787]\n",
      "Alpha_Wperp_nonlin: CDF_FLOAT [787]\n",
      "Alpha_sigmaNa_nonlin: CDF_FLOAT [787]\n",
      "Alpha_sigmaVX_nonlin: CDF_FLOAT [787]\n",
      "Alpha_sigmaVY_nonlin: CDF_FLOAT [787]\n",
      "Alpha_sigmaVZ_nonlin: CDF_FLOAT [787]\n",
      "Alpha_sigmaV_nonlin: CDF_FLOAT [787]\n",
      "Alpha_sigmaW_nonlin: CDF_FLOAT [787]\n",
      "Alpha_sigmaWpar_nonlin: CDF_FLOAT [787]\n",
      "Alpha_sigmaWperp_nonlin: CDF_FLOAT [787]\n",
      "Ang_dev: CDF_FLOAT [787]\n",
      "BX: CDF_FLOAT [787]\n",
      "BY: CDF_FLOAT [787]\n",
      "BZ: CDF_FLOAT [787]\n",
      "ChisQ_DOF_nonlin: CDF_FLOAT [787]\n",
      "EW_flowangle: CDF_FLOAT [787]\n",
      "Epoch: CDF_EPOCH [787]\n",
      "NS_flowangle: CDF_FLOAT [787]\n",
      "Peak_doy: CDF_DOUBLE [787]\n",
      "Proton_Np_moment: CDF_FLOAT [787]\n",
      "Proton_Np_nonlin: CDF_FLOAT [787]\n",
      "Proton_VX_moment: CDF_FLOAT [787]\n",
      "Proton_VX_nonlin: CDF_FLOAT [787]\n",
      "Proton_VY_moment: CDF_FLOAT [787]\n",
      "Proton_VY_nonlin: CDF_FLOAT [787]\n",
      "Proton_VZ_moment: CDF_FLOAT [787]\n",
      "Proton_VZ_nonlin: CDF_FLOAT [787]\n",
      "Proton_V_moment: CDF_FLOAT [787]\n",
      "Proton_V_nonlin: CDF_FLOAT [787]\n",
      "Proton_W_moment: CDF_FLOAT [787]\n",
      "Proton_W_nonlin: CDF_FLOAT [787]\n",
      "Proton_Wpar_moment: CDF_FLOAT [787]\n",
      "Proton_Wpar_nonlin: CDF_FLOAT [787]\n",
      "Proton_Wperp_moment: CDF_FLOAT [787]\n",
      "Proton_Wperp_nonlin: CDF_FLOAT [787]\n",
      "Proton_sigmaNp_nonlin: CDF_FLOAT [787]\n",
      "Proton_sigmaVX_nonlin: CDF_FLOAT [787]\n",
      "Proton_sigmaVY_nonlin: CDF_FLOAT [787]\n",
      "Proton_sigmaVZ_nonlin: CDF_FLOAT [787]\n",
      "Proton_sigmaV_nonlin: CDF_FLOAT [787]\n",
      "Proton_sigmaW_nonlin: CDF_FLOAT [787]\n",
      "Proton_sigmaWpar_nonlin: CDF_FLOAT [787]\n",
      "Proton_sigmaWperp_nonlin: CDF_FLOAT [787]\n",
      "SigmaEW_flowangle: CDF_FLOAT [787]\n",
      "SigmaNS_flowangle: CDF_FLOAT [787]\n",
      "dev: CDF_FLOAT [787]\n",
      "doy: CDF_FLOAT [787]\n",
      "fit_flag: CDF_INT1 [787]\n",
      "sigmaPeak_doy: CDF_DOUBLE [787]\n",
      "xgse: CDF_FLOAT [787]\n",
      "year: CDF_INT1 [787]\n",
      "ygse: CDF_FLOAT [787]\n",
      "ygsm: CDF_FLOAT [787]\n",
      "zgse: CDF_FLOAT [787]\n",
      "zgsm: CDF_FLOAT [787]\n"
     ]
    }
   ],
   "source": [
    "print('These are the variables within this file:\\n')\n",
    "print(cdf_ywnd)"
   ]
  },
  {
   "cell_type": "code",
   "execution_count": 8,
   "id": "a3d12b1f",
   "metadata": {},
   "outputs": [
    {
     "name": "stdout",
     "output_type": "stream",
     "text": [
      "This is the global metadata record of the file:\n",
      "\n",
      "ADID_ref: \n",
      "Acknowledgement: \n",
      "Data_type: VS>Validated Summary Data [CDF_CHAR]\n",
      "Data_version: 01 [CDF_CHAR]\n",
      "Descriptor: SWE>Solar Wind Experiment [CDF_CHAR]\n",
      "Discipline: Space Physics>Magnetospheric Science [CDF_CHAR]\n",
      "            Space Physics>Interplanetary Studies [CDF_CHAR]\n",
      "File_naming_convention: source_datatype_descriptor [CDF_CHAR]\n",
      "Generated_by: Michael L. Stevens (mstevens@cfa.harvard.edu) [CDF_CHAR]\n",
      "Generation_date: Fri May 27 09:59:25 2022 [CDF_CHAR]\n",
      "HTTP_LINK: \n",
      "Instrument_type: Ephemeris [CDF_CHAR]\n",
      "                 Plasma and Solar Wind [CDF_CHAR]\n",
      "                 Magnetic Fields (space) [CDF_CHAR]\n",
      "LINK_TEXT: \n",
      "LINK_TITLE: \n",
      "Logical_file_id: wi_h1_swe_20220514_v01 [CDF_CHAR]\n",
      "Logical_source: wind_vs_swe [CDF_CHAR]\n",
      "Logical_source_description: Solar wind proton and alpha parameters, including anisotropic temperatures, derived by non-linear fitting of the measurements and with moment techniques. [CDF_CHAR]\n",
      "MODS: data analysis package revised March, 2012. [CDF_CHAR]\n",
      "Mission_group: Wind [CDF_CHAR]\n",
      "PI_affiliation: NASA GSFC [CDF_CHAR]\n",
      "PI_name: Keith W. Ogilvie [CDF_CHAR]\n",
      "Project: WIND/SWE Faraday Cup (Proton - Alpha Anisotropy Analysis) [CDF_CHAR]\n",
      "Rules_of_use: \n",
      "Source_name: Wind [CDF_CHAR]\n",
      "TEXT: Notes: \n",
      "  - Data reported within this file do not exceed the limits of\n",
      "    various paremeters listed in the following section.  There\n",
      "    may be more valid data in the original dataset that requires\n",
      "    additional work to interpret but was discarded due to the\n",
      "    limits.  In particular we have tried to exclude non-solar\n",
      "    wind data and questionable alpha data from these files.\n",
      "  - We provide the one sigma uncertainty for each parameter\n",
      "    produced by the non-linear curve fitting analysis either\n",
      "    directly from the fitting or by propagating uncertainties\n",
      "    for bulk speeds, flow angles or any other derived parameter.\n",
      "  - For the non-linear anisotropic proton analysis, a scalar\n",
      "    thermal speed is produced by determining parallel and\n",
      "    perpendicular tmperatures, taking the trace, \n",
      "    Tscalar = (2Tperp + Tpara)/3 and converting the result\n",
      "    back to a thermal speed.  The uncertainties are also\n",
      "    propagated through\n",
      "\n",
      "\n",
      "; Limits:\n",
      ";\tMinimum mach number:        1.5000000\n",
      ";\tMaximum chisq/dof:             100000.00\n",
      ";\tMinimum distance \n",
      ";\t  to bow shock:                      5.0000000 [Re]\n",
      ";\tMaximum uncertainty in any\n",
      ";          \t  parameter from non-linear\n",
      ";          \t  analysis:                               70.0000[%]\n",
      " [CDF_CHAR]\n",
      "Time_resolution: 92 seconds [CDF_CHAR]\n"
     ]
    }
   ],
   "source": [
    "print('This is the global metadata record of the file:\\n')\n",
    "print(cdf_ywnd.attrs)"
   ]
  },
  {
   "cell_type": "markdown",
   "id": "7ced8916",
   "metadata": {},
   "source": [
    "# Let's move on to the WIND magnetic field observation data\n",
    "\n",
    "The magnetic field measurement data from WIND is our input or X. In this case it will be one part of X.\n",
    "Later we will combine the DSCVR magnetic field data with this WIND magnetic field data for training our predictive model."
   ]
  },
  {
   "cell_type": "code",
   "execution_count": 9,
   "id": "9f70ca5d",
   "metadata": {},
   "outputs": [
    {
     "name": "stdout",
     "output_type": "stream",
     "text": [
      "261\n",
      "-rw-rw-r-- 1 1001 1001 57471586 Jun  8 04:37 data/raw/WIND/mfi/2022/wi_h2_mfi_20220514_v04.cdf\n",
      "data/raw/WIND/mfi/2022/wi_h2_mfi_20220514_v04.cdf: data\n"
     ]
    }
   ],
   "source": [
    "WND_MFI_DIR = 'data/raw/WIND/mfi/2022'\n",
    "wnd_mfi_sample = 'wi_h2_mfi_20220101_v04.cdf'\n",
    "\n",
    "!ls -l $WND_MFI_DIR | wc -l\n",
    "!ls -l $WND_MFI_DIR/wi_h2_mfi_20220514_v04.cdf\n",
    "!file $WND_MFI_DIR/wi_h2_mfi_20220514_v04.cdf"
   ]
  },
  {
   "cell_type": "code",
   "execution_count": 10,
   "id": "5c2591ac",
   "metadata": {},
   "outputs": [],
   "source": [
    "xwnd_filename = os.path.join(WND_MFI_DIR,'wi_h2_mfi_20220514_v04.cdf')\n",
    "cdf_xwnd = pycdf.CDF(xwnd_filename)"
   ]
  },
  {
   "cell_type": "code",
   "execution_count": 11,
   "id": "6fd46dae",
   "metadata": {},
   "outputs": [
    {
     "name": "stdout",
     "output_type": "stream",
     "text": [
      "These are the variables within this file:\n",
      "\n",
      "AMPL1_I: CDF_REAL4 [1440, 3, 8]\n",
      "AMPL1_O: CDF_REAL4 [1440, 3, 8]\n",
      "BF1: CDF_REAL4 [935602, 1]\n",
      "BGSE: CDF_REAL4 [935602, 3]\n",
      "BGSM: CDF_REAL4 [935602, 3]\n",
      "Epoch: CDF_EPOCH [935602, 1]\n",
      "Epoch1: CDF_EPOCH [1440, 1]\n",
      "FLAG1_I: CDF_INT4 [1440, 1]\n",
      "FLAG1_O: CDF_INT4 [1440, 1]\n",
      "MAG_MODE: CDF_INT4 [935602, 1]\n",
      "NUM1_PTS_I: CDF_INT4 [1440, 1]\n",
      "NUM1_PTS_O: CDF_INT4 [1440, 1]\n",
      "ORTH1_I: CDF_REAL8 [1440, 3, 3]\n",
      "ORTH1_O: CDF_REAL8 [1440, 3, 3]\n",
      "PAYLD1_I: CDF_REAL8 [1440, 3, 3]\n",
      "PAYLD1_O: CDF_REAL8 [1440, 3, 3]\n",
      "RANGE: CDF_INT4 [935602, 1]\n",
      "SENS1_I: CDF_REAL4 [1440, 3, 8]\n",
      "SENS1_O: CDF_REAL4 [1440, 3, 8]\n",
      "SPC_MODE: CDF_INT4 [935602, 1]\n",
      "Time1_PB5: CDF_INT4 [1440, 3]\n",
      "Time_PB5: CDF_INT4 [935602, 3]\n",
      "ZERO1_I: CDF_REAL4 [1440, 3, 8]\n",
      "ZERO1_O: CDF_REAL4 [1440, 3, 8]\n",
      "cartesian: CDF_CHAR*11 [3] NRV\n",
      "format_time: CDF_CHAR*2 [3] NRV\n",
      "label_bgse: CDF_CHAR*8 [3] NRV\n",
      "label_bgsm: CDF_CHAR*8 [3] NRV\n",
      "label_time: CDF_CHAR*27 [3] NRV\n",
      "unit_time: CDF_CHAR*4 [3] NRV\n"
     ]
    }
   ],
   "source": [
    "print('These are the variables within this file:\\n')\n",
    "print(cdf_xwnd)"
   ]
  },
  {
   "cell_type": "code",
   "execution_count": 12,
   "id": "957d2ddd",
   "metadata": {},
   "outputs": [
    {
     "name": "stdout",
     "output_type": "stream",
     "text": [
      "This is the global metadata record of the file:\n",
      "\n",
      "ADID_ref: NSSD0141 [CDF_CHAR]\n",
      "Attitude_file: wi_at_pre_20220513_v02.cdf [CDF_CHAR]\n",
      "               wi_at_pre_20220514_v02.cdf [CDF_CHAR]\n",
      "               wi_at_pre_20220515_v02.cdf [CDF_CHAR]\n",
      "Data_type: H2>High-resolution Definitive Data [CDF_CHAR]\n",
      "Data_version: 04 [CDF_CHAR]\n",
      "Descriptor: MFI>Magnetic Fields Investigation [CDF_CHAR]\n",
      "Discipline: Space Physics>Heliospheric Science [CDF_CHAR]\n",
      "HKlvl_0_file: wi_lz_scr_20220513_v01.dat [CDF_CHAR]\n",
      "              wi_lz_scr_20220514_v01.dat [CDF_CHAR]\n",
      "              wi_lz_scr_20220515_v01.dat [CDF_CHAR]\n",
      "Instrument_type: Magnetic Fields (space) [CDF_CHAR]\n",
      "Level_0_file: wi_lz_mfi_20220513_v01.dat [CDF_CHAR]\n",
      "              wi_lz_mfi_20220514_v01.dat [CDF_CHAR]\n",
      "              wi_lz_mfi_20220515_v01.dat [CDF_CHAR]\n",
      "Logical_file_id: wi_h2_mfi_00000000_v00 [CDF_CHAR]\n",
      "Logical_source: wi_h2_mfi [CDF_CHAR]\n",
      "Logical_source_description: Wind Magnetic Fields Investigation, High-resolution Definitive Data [CDF_CHAR]\n",
      "MODS:  10/01/2011 Initial release                     [CDF_CHAR]\n",
      "Mission_group: Wind [CDF_CHAR]\n",
      "Orbit_file: wi_or_pre_20220513_v10.cdf [CDF_CHAR]\n",
      "            wi_or_pre_20220514_v10.cdf [CDF_CHAR]\n",
      "            wi_or_pre_20220515_v09.cdf [CDF_CHAR]\n",
      "PI_affiliation: UMBC, NASA/GSFC [CDF_CHAR]\n",
      "PI_name: A. Koval [CDF_CHAR]\n",
      "Processing_date: Mon Jun  6 16:37:08 2022 UTC [CDF_CHAR]\n",
      "Project: ISTP>International Solar-Terrestrial Physics [CDF_CHAR]\n",
      "Software_version: V05.00 [CDF_CHAR]\n",
      "Source_name: WIND>Wind Interplanetary Plasma Laboratory [CDF_CHAR]\n",
      "TEXT: WIND MFI high-resolution data file. Time resolution varies with instrument mode. [CDF_CHAR]\n",
      "      Modes 0 & 10, low rate: .184s, high rate: .092s                                  [CDF_CHAR]\n",
      "      Modes 1 & 11, low rate: Prim .092s Sec 1.84s, high rate: Prim .046s Sec .92s     [CDF_CHAR]\n",
      "      Modes 2 & 12, Same as Modes 1 & 11                                               [CDF_CHAR]\n",
      "      Calibration constants are 1 minute averages.                                     [CDF_CHAR]\n",
      "      WIND MFI Instrument turn on 11/12/1994                                           [CDF_CHAR]\n",
      "      Data versions:                                                                   [CDF_CHAR]\n",
      "      03 - Extrapolated Bz correction                                                  [CDF_CHAR]\n",
      "      04 - Final Bz correction                                                         [CDF_CHAR]\n",
      "      05 - Final attitude and Bz correction                                               [CDF_CHAR]\n",
      "      References:                                                                      [CDF_CHAR]\n",
      "      1. Lepping, R. P., et al., The WIND Magnetic Field Investigation, p. 207 in      [CDF_CHAR]\n",
      "      The Global Geospace Mission, ed. by C. T. Russell, Kluwer,1995                   [CDF_CHAR]\n",
      "      2. Panetta, P. (GSFC), GGS WIND MFI Operator's Manual, September 15, 1992.      [CDF_CHAR]\n",
      "      3. Computer Sciences Corporation, Data Format Control Document (DFCD) Between    [CDF_CHAR]\n",
      "      The International Solar-Terrestrial Physics (ISTP) Program Information           [CDF_CHAR]\n",
      "      Processing Division Ground Data Processing System and The ISTP Mission           [CDF_CHAR]\n",
      "      Investigators, CSC/TR-91/6014, 560-1DFD/0190, July 1992.                         [CDF_CHAR]\n",
      "      4. Behannon, K. W., International Solar Terrestrial Physics (ISTP) Program       [CDF_CHAR]\n",
      "      Investigator Data Analysis Requirements For WIND and GEOTAIL Spacecraft          [CDF_CHAR]\n",
      "      Magnetometer Experiment, September 1987.                                         [CDF_CHAR]\n",
      "      5. National Space Science Data Center, CDF User's Guide, Version 2.3.0,         [CDF_CHAR]\n",
      "      October 1, 1992.                                                                 [CDF_CHAR]\n",
      "      6. Mish, W. H., International Solar-Terrestrial Physics (ISTP) Key Parameter     [CDF_CHAR]\n",
      "      Generation Software (KPGS) Standards & Conventions, September 1992.              [CDF_CHAR]\n",
      "      7. Mish, W. H., IMP F and G Phase I Magnetic Field Analysis, April 1972          [CDF_CHAR]\n",
      "TEXT_supplement_1:   [CDF_CHAR]\n",
      "TITLE: WIND Magnetic Field Investigation (MFI) High-Resolution Production [CDF_CHAR]\n",
      "Web_sites: http://wind.nasa.gov [CDF_CHAR]\n",
      "def_FLAGS: 00 - Interpolated   Calibration Values                      [CDF_CHAR]\n",
      "           01 - Last available Calibration Values                      [CDF_CHAR]\n",
      "           02 - Daily Computed Calibration Values                      [CDF_CHAR]\n",
      "           03 - Daily Computed Calibration Values with Bz corrections  [CDF_CHAR]\n",
      "           04 - High-Resolution Calibration Values                     [CDF_CHAR]\n",
      "           05 - High-Resolution Calibration Values with Bz corrections [CDF_CHAR]\n",
      "def_MAG_MODE: 00 - Primary to Secondary Ratio  (1:1) Outboard prime w/ FFT & Snapshot [CDF_CHAR]\n",
      "              01 - Primary to Secondary Ratio (20:1) Outboard prime w/ FFT & Snapshot [CDF_CHAR]\n",
      "              02 - Primary to Secondary Ratio (20:1) Outboard prime w/ Snapshot only  [CDF_CHAR]\n",
      "              03 - Primary to Secondary Ratio  (1:1) Outboard prime Maneuver          [CDF_CHAR]\n",
      "              07 - Primary to Secondary Ratio  (1:1) Outboard prime used Inboard data [CDF_CHAR]\n",
      "              10 - Primary to Secondary Ratio  (1:1)  Inboard prime w/ FFT & Snapshot [CDF_CHAR]\n",
      "              11 - Primary to Secondary Ratio (20:1)  Inboard prime w/ FFT & Snapshot [CDF_CHAR]\n",
      "              12 - Primary to Secondary Ratio (20:1)  Inboard prime w/ Snapshot only  [CDF_CHAR]\n",
      "              13 - Primary to Secondary Ratio  (1:1)  Inboard prime Maneuver          [CDF_CHAR]\n",
      "def_SPC_MODE: 01 - Science     mode (92 sec) [CDF_CHAR]\n",
      "              03 - Maneuver    mode (92 sec) [CDF_CHAR]\n",
      "              04 - Contingency mode (92 sec) [CDF_CHAR]\n",
      "              05 - Science     mode (46 sec) [CDF_CHAR]\n",
      "              07 - Maneuver    mode (46 sec) [CDF_CHAR]\n",
      "              08 - Contingency mode (46 sec) [CDF_CHAR]\n"
     ]
    }
   ],
   "source": [
    "print('This is the global metadata record of the file:\\n')\n",
    "print(cdf_xwnd.attrs)"
   ]
  },
  {
   "cell_type": "markdown",
   "id": "f204ea04",
   "metadata": {},
   "source": [
    "# DSCVR magnetic field data\n",
    "\n",
    "The final piece of data that we need is the DSCVR magnetic field observation data. \n",
    "As mentioned earlier, we will combine this with the same data observed by WIND. \n",
    "We will leave the details of how we do this until later. For now, let's inspect the WIND data"
   ]
  },
  {
   "cell_type": "code",
   "execution_count": 13,
   "id": "4052c125",
   "metadata": {},
   "outputs": [
    {
     "name": "stdout",
     "output_type": "stream",
     "text": [
      "260\n",
      "-rw-rw-r-- 1 1001 1001 7283670 Jul 11 04:00 data/raw/DSCVR/mfi/2022/dscovr_h0_mag_20220514_v01.cdf\n",
      "data/raw/DSCVR/mfi/2022/dscovr_h0_mag_20220514_v01.cdf: data\n"
     ]
    }
   ],
   "source": [
    "DSC_MFI_DIR = 'data/raw/DSCVR/mfi/2022'\n",
    "wnd_mfi_sample = 'wi_h2_mfi_20220101_v04.cdf'\n",
    "\n",
    "!ls $DSC_MFI_DIR | wc -l\n",
    "!ls -l $DSC_MFI_DIR/dscovr_h0_mag_20220514_v01.cdf\n",
    "!file $DSC_MFI_DIR/dscovr_h0_mag_20220514_v01.cdf"
   ]
  },
  {
   "cell_type": "code",
   "execution_count": 14,
   "id": "70711648",
   "metadata": {},
   "outputs": [],
   "source": [
    "xdsc_filename = os.path.join(DSC_MFI_DIR,'dscovr_h0_mag_20220514_v01.cdf')\n",
    "cdf_xdsc = pycdf.CDF(xdsc_filename)"
   ]
  },
  {
   "cell_type": "code",
   "execution_count": 15,
   "id": "71fd7c36",
   "metadata": {},
   "outputs": [
    {
     "name": "stdout",
     "output_type": "stream",
     "text": [
      "These are the variables within this file:\n",
      "\n",
      "B1F1: CDF_REAL4 [86400]\n",
      "B1GSE: CDF_REAL4 [86400, 3]\n",
      "B1RTN: CDF_REAL4 [86400, 3]\n",
      "B1SDF1: CDF_REAL4 [86400]\n",
      "B1SDGSE: CDF_REAL4 [86400, 3]\n",
      "B1SDRTN: CDF_REAL4 [86400, 3]\n",
      "Epoch1: CDF_EPOCH [86400]\n",
      "FLAG1: CDF_INT2 [86400]\n",
      "NUM1_PTS: CDF_INT4 [86400]\n",
      "RANGE1: CDF_INT2 [86400]\n",
      "SENS: CDF_REAL4 [3, 8] NRV\n",
      "Time1_PB5: CDF_INT4 [86400, 3]\n",
      "ZERO: CDF_REAL4 [3, 8] NRV\n",
      "format_time: CDF_CHAR*2 [3] NRV\n",
      "label_bgse: CDF_CHAR*8 [3] NRV\n",
      "label_brtn: CDF_CHAR*8 [3] NRV\n",
      "label_bsdgse: CDF_CHAR*14 [3] NRV\n",
      "label_bsdrtn: CDF_CHAR*14 [3] NRV\n",
      "label_time: CDF_CHAR*27 [3] NRV\n",
      "unit_time: CDF_CHAR*4 [3] NRV\n"
     ]
    }
   ],
   "source": [
    "print('These are the variables within this file:\\n')\n",
    "print(cdf_xdsc)"
   ]
  },
  {
   "cell_type": "code",
   "execution_count": 16,
   "id": "3f3b2a78",
   "metadata": {},
   "outputs": [
    {
     "name": "stdout",
     "output_type": "stream",
     "text": [
      "This is the global metadata record of the file:\n",
      "\n",
      "Data_type: H0>1-sec Definitive Data [CDF_CHAR]\n",
      "Data_version: 1 [CDF_CHAR]\n",
      "Descriptor: MAG>Fluxgate Magnetometer [CDF_CHAR]\n",
      "Discipline: Space Physics>Heliospheric Science [CDF_CHAR]\n",
      "File_naming_convention: source_datatype_descriptor_yyyyMMdd [CDF_CHAR]\n",
      "Instrument_type: Magnetic Fields (space) [CDF_CHAR]\n",
      "Logical_file_id: dscovr_h0_mag_20220514_v01 [CDF_CHAR]\n",
      "Logical_source: dscovr_h0_mag [CDF_CHAR]\n",
      "Logical_source_description: DSCOVR Fluxgate Magnetometer 1-sec Definitive Data [CDF_CHAR]\n",
      "MODS: 12/01/2016 Initial release [CDF_CHAR]\n",
      "Mission_group: DSCOVR [CDF_CHAR]\n",
      "PI_affiliation: UMBC, NASA/GSFC [CDF_CHAR]\n",
      "PI_name: A. Koval [CDF_CHAR]\n",
      "Processing_date: Fri Jul  8 22:03:11 2022 UTC [CDF_CHAR]\n",
      "Project: DSCOVR>Deep Space Climate Observatory [CDF_CHAR]\n",
      "Software_version: V01.00 [CDF_CHAR]\n",
      "Source_name: DSCOVR>Deep Space Climate Observatory [CDF_CHAR]\n",
      "TEXT: DSCOVR Fluxgate Magnetometer 1-sec Definitive Data                               [CDF_CHAR]\n",
      "TEXT_supplement_1:   [CDF_CHAR]\n",
      "TITLE: DSCOVR Fluxgate Magnetometer 1-sec Definitive Data [CDF_CHAR]\n",
      "Web_sites:   [CDF_CHAR]\n"
     ]
    }
   ],
   "source": [
    "print('This is the global metadata record of the file:\\n')\n",
    "print(cdf_xdsc.attrs)"
   ]
  },
  {
   "cell_type": "code",
   "execution_count": 17,
   "id": "36ec32ab",
   "metadata": {},
   "outputs": [
    {
     "name": "stdout",
     "output_type": "stream",
     "text": [
      "This is the global metadata record of the file:\n",
      "\n",
      "CATDESC: Magnetic field vector in GSE cartesian coordinates (1 sec) [CDF_CHAR]\n",
      "DEPEND_0: Epoch1 [CDF_CHAR]\n",
      "DISPLAY_TYPE: time_series [CDF_CHAR]\n",
      "FIELDNAM: Magnetic field vector in GSE cartesian coordinates (1 sec) [CDF_CHAR]\n",
      "FILLVAL: -1e+31 [CDF_FLOAT]\n",
      "FORMAT: E13.6 [CDF_CHAR]\n",
      "LABL_PTR_1: label_bgse [CDF_CHAR]\n",
      "MONOTON: FALSE [CDF_CHAR]\n",
      "SCALEMAX: [14.442259 18.562836 16.361279] [CDF_FLOAT]\n",
      "SCALEMIN: [-15.509157 -14.402063 -11.871084] [CDF_FLOAT]\n",
      "SCALETYP: LINEAR [CDF_CHAR]\n",
      "TIME_RES: 1 sec [CDF_CHAR]\n",
      "UNITS: nT [CDF_CHAR]\n",
      "VALIDMAX: [65534. 65534. 65534.] [CDF_FLOAT]\n",
      "VALIDMIN: [-65534. -65534. -65534.] [CDF_FLOAT]\n",
      "VAR_TYPE: data [CDF_CHAR]\n"
     ]
    }
   ],
   "source": [
    "print('This is the global metadata record of the file:\\n')\n",
    "print(cdf_xdsc['B1GSE'].attrs)"
   ]
  },
  {
   "cell_type": "code",
   "execution_count": 18,
   "id": "df75e97c",
   "metadata": {},
   "outputs": [],
   "source": [
    "dsc_B = cdf_xdsc['B1GSE']\n",
    "wnd_B = cdf_xwnd['BGSE']"
   ]
  },
  {
   "cell_type": "markdown",
   "id": "cfd51a20",
   "metadata": {},
   "source": [
    "Let's plot 1 hour of data from WIND and DSCVR for the same time.\n",
    "Remember that these two satellites are in different places in space for a given time.\n",
    "So we don't expect these plots to be correlated."
   ]
  },
  {
   "cell_type": "code",
   "execution_count": 19,
   "id": "ae2f27c9",
   "metadata": {},
   "outputs": [
    {
     "data": {
      "text/plain": [
       "<matplotlib.legend.Legend at 0x7fc1a478d790>"
      ]
     },
     "execution_count": 19,
     "metadata": {},
     "output_type": "execute_result"
    },
    {
     "data": {
      "image/png": "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
      "text/plain": [
       "<Figure size 2400x1600 with 6 Axes>"
      ]
     },
     "metadata": {},
     "output_type": "display_data"
    }
   ],
   "source": [
    "#fig, ((ax1, ax2), (ax3, ax4)) = plt.subplots(2, 2)\n",
    "#plt.rcParams['figure.figsize'] = [12, 8]\n",
    "#plt.rcParams['figure.dpi'] = 200 # 200 e.g. is really fine, but slower\n",
    "\n",
    "fig, axs = plt.subplots(2, 3)\n",
    "title = 'DSCVR vs WIND B'\n",
    "fig.suptitle(title, fontsize=14)\n",
    "start = 0\n",
    "stop = 3600\n",
    "time_axis = np.linspace(start, stop, num=stop-start, endpoint=False)\n",
    "\n",
    "d_bx, = axs[0,0].plot(time_axis, dsc_B[start:stop,0], color='green', label='Bx')\n",
    "d_by, = axs[0,1].plot(time_axis, dsc_B[start:stop,1], color='green', label='By')\n",
    "d_bz, = axs[0,2].plot(time_axis, dsc_B[start:stop,2], color='green', label='Bz')\n",
    "axs[0, 0].set(title='Bx')\n",
    "axs[0, 1].set(title='By')\n",
    "axs[0, 2].set(title='Bz')\n",
    "#axs[0, 0].set(xlim=(-500,1500))\n",
    "axs[1, 0].set(xlabel='time [sec]')\n",
    "axs[1, 1].set(xlabel='time [sec]')\n",
    "axs[1, 2].set(xlabel='time [sec]')\n",
    "\n",
    "w_bx, = axs[1,0].plot(time_axis, wnd_B[start:stop,0], color='magenta', label='Bx')\n",
    "w_by, = axs[1,1].plot(time_axis, wnd_B[start:stop,1], color='magenta', label='By')\n",
    "w_bz, = axs[1,2].plot(time_axis, wnd_B[start:stop,2], color='magenta', label='Bz')\n",
    "\n",
    "fig.legend([d_bx, w_bx], ['DSCVR', 'WIND'], loc='upper right')"
   ]
  },
  {
   "cell_type": "markdown",
   "id": "48a90071",
   "metadata": {},
   "source": [
    "Yikes! What is going on with the DSCVR data? \n",
    "There are some bad data points getting plotted that are skewing the range of the plot.\n",
    "\n",
    "We will build a filter later so for now let's restrict the plot range to a reasonable scale.\n",
    "\n",
    "Also, some values are negative and others are positive. We need to orient the axes with the minimum values at the bottom."
   ]
  },
  {
   "cell_type": "code",
   "execution_count": 20,
   "id": "365367d9",
   "metadata": {},
   "outputs": [
    {
     "data": {
      "text/plain": [
       "<matplotlib.legend.Legend at 0x7fc1a4515f70>"
      ]
     },
     "execution_count": 20,
     "metadata": {},
     "output_type": "execute_result"
    },
    {
     "data": {
      "image/png": "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
      "text/plain": [
       "<Figure size 2400x1600 with 6 Axes>"
      ]
     },
     "metadata": {},
     "output_type": "display_data"
    }
   ],
   "source": [
    "fig, axs = plt.subplots(2, 3)\n",
    "title = 'DSCVR vs WIND B'\n",
    "fig.suptitle(title, fontsize=14)\n",
    "start = 0\n",
    "stop = 3600\n",
    "time_axis = np.linspace(start, stop, num=stop-start, endpoint=False)\n",
    "\n",
    "d_bx, = axs[0,0].plot(time_axis, dsc_B[start:stop,0], color='green', label='Bx')\n",
    "d_by, = axs[0,1].plot(time_axis, dsc_B[start:stop,1], color='green', label='By')\n",
    "d_bz, = axs[0,2].plot(time_axis, dsc_B[start:stop,2], color='green', label='Bz')\n",
    "axs[0, 0].set(title='Bx', ylabel='B [nT]')\n",
    "axs[0, 1].set(title='By')\n",
    "axs[0, 2].set(title='Bz')\n",
    "axs[1, 0].set(xlabel='time [sec]', ylabel='B [nT]')\n",
    "axs[1, 1].set(xlabel='time [sec]')\n",
    "axs[1, 2].set(xlabel='time [sec]')\n",
    "axs[0, 0].set(ylim=(-8,-4))\n",
    "axs[0, 1].set(ylim=(0,7))\n",
    "axs[0, 2].set(ylim=(-6,0))\n",
    "axs[1, 0].set(ylim=(-8,-4))\n",
    "axs[1, 1].set(ylim=(0,7))\n",
    "axs[1, 2].set(ylim=(-6,0))\n",
    "\n",
    "w_bx, = axs[1,0].plot(time_axis, wnd_B[start:stop,0], color='magenta', label='Bx')\n",
    "w_by, = axs[1,1].plot(time_axis, wnd_B[start:stop,1], color='magenta', label='By')\n",
    "w_bz, = axs[1,2].plot(time_axis, wnd_B[start:stop,2], color='magenta', label='Bz')\n",
    "\n",
    "fig.legend([d_bx, w_bx], ['DSCVR', 'WIND'], loc='upper right')"
   ]
  },
  {
   "cell_type": "markdown",
   "id": "eb6441c0",
   "metadata": {},
   "source": [
    "Well that looks more like it! We will come back to removing the invalid data from the input.\n",
    "Let's move on to plotting the WIND ion data"
   ]
  },
  {
   "cell_type": "code",
   "execution_count": 21,
   "id": "987f4def",
   "metadata": {},
   "outputs": [],
   "source": [
    "wnd_V = {}\n",
    "wnd_V[0] = cdf_ywnd['Proton_VX_nonlin']\n",
    "wnd_V[1] = cdf_ywnd['Proton_VY_nonlin']\n",
    "wnd_V[2] = cdf_ywnd['Proton_VZ_nonlin']\n",
    "wnd_doy = cdf_ywnd['doy']"
   ]
  },
  {
   "cell_type": "code",
   "execution_count": 22,
   "id": "a7ee90d2",
   "metadata": {},
   "outputs": [
    {
     "name": "stdout",
     "output_type": "stream",
     "text": [
      "V dim:  (787,)\n",
      "doy dim:  (787,)\n"
     ]
    }
   ],
   "source": [
    "print('V dim: ',wnd_V[0].shape)\n",
    "print('doy dim: ',wnd_doy.shape)"
   ]
  },
  {
   "cell_type": "code",
   "execution_count": 23,
   "id": "f5a90409",
   "metadata": {},
   "outputs": [
    {
     "data": {
      "text/plain": [
       "<matplotlib.legend.Legend at 0x7fc1a4225af0>"
      ]
     },
     "execution_count": 23,
     "metadata": {},
     "output_type": "execute_result"
    },
    {
     "data": {
      "image/png": "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
      "text/plain": [
       "<Figure size 2400x1600 with 6 Axes>"
      ]
     },
     "metadata": {},
     "output_type": "display_data"
    }
   ],
   "source": [
    "fig, axs = plt.subplots(2, 3)\n",
    "title = 'WIND V'\n",
    "fig.suptitle(title, fontsize=14)\n",
    "start = 0\n",
    "stop = wnd_doy.shape[0]\n",
    "time_axis = wnd_doy\n",
    "\n",
    "w_bx, = axs[0,0].plot(time_axis, wnd_V[0], color='magenta', label='Vx')\n",
    "w_by, = axs[0,1].plot(time_axis, wnd_V[1], color='magenta', label='Vy')\n",
    "w_bz, = axs[0,2].plot(time_axis, wnd_V[2], color='magenta', label='Vz')\n",
    "axs[0, 0].set(title='Vx')\n",
    "axs[0, 1].set(title='Vy')\n",
    "axs[0, 2].set(title='Vz')\n",
    "axs[0, 0].set(xlabel='time [fractional day]', ylabel='V [GSE km/sec]')\n",
    "axs[0, 1].set(xlabel='time [fractional day]')\n",
    "axs[0, 2].set(xlabel='time [fractional day]')\n",
    "axs[0, 0].set(ylim=(-300,-500))\n",
    "#axs[0, 1].set(ylim=(0,7))\n",
    "#axs[0, 2].set(ylim=(-6,0))\n",
    "#axs[1, 0].set(ylim=(-8,-4))\n",
    "#axs[1, 1].set(ylim=(0,7))\n",
    "#axs[1, 2].set(ylim=(-6,0))\n",
    "\n",
    "fig.legend([w_bx], ['WIND'], loc='upper right')"
   ]
  },
  {
   "cell_type": "code",
   "execution_count": null,
   "id": "fe58c504",
   "metadata": {},
   "outputs": [],
   "source": []
  }
 ],
 "metadata": {
  "kernelspec": {
   "display_name": "Python 3",
   "language": "python",
   "name": "python3"
  },
  "language_info": {
   "codemirror_mode": {
    "name": "ipython",
    "version": 3
   },
   "file_extension": ".py",
   "mimetype": "text/x-python",
   "name": "python",
   "nbconvert_exporter": "python",
   "pygments_lexer": "ipython3",
   "version": "3.8.5"
  }
 },
 "nbformat": 4,
 "nbformat_minor": 5
}
